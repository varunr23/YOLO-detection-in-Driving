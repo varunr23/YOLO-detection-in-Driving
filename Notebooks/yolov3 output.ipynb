{
 "cells": [
  {
   "cell_type": "code",
   "execution_count": 1,
   "id": "f035118e",
   "metadata": {},
   "outputs": [],
   "source": [
    "import cv2\n",
    "import numpy as np\n",
    "import os"
   ]
  },
  {
   "cell_type": "code",
   "execution_count": 2,
   "id": "6f74dd1d",
   "metadata": {},
   "outputs": [],
   "source": [
    "labels=['car', 'truck', 'pedestrian', 'bicyclist', 'light']"
   ]
  },
  {
   "cell_type": "code",
   "execution_count": 3,
   "id": "bb361c13",
   "metadata": {},
   "outputs": [],
   "source": [
    "width,height=480,300"
   ]
  },
  {
   "cell_type": "code",
   "execution_count": 4,
   "id": "e96214d6",
   "metadata": {},
   "outputs": [],
   "source": [
    "confThreshold=0.5"
   ]
  },
  {
   "cell_type": "code",
   "execution_count": 5,
   "id": "196210c2",
   "metadata": {},
   "outputs": [],
   "source": [
    "nmsThreshold=0.3"
   ]
  },
  {
   "cell_type": "code",
   "execution_count": 6,
   "id": "e89b9355",
   "metadata": {},
   "outputs": [],
   "source": [
    "modelconf=\"C:/Users/varun/OneDrive/Desktop/Yolo/DATA/yolov3.cfg\""
   ]
  },
  {
   "cell_type": "code",
   "execution_count": 7,
   "id": "4d5e7f30",
   "metadata": {},
   "outputs": [],
   "source": [
    "modelweight=\"C:/Users/varun/OneDrive/Desktop/Yolo/model/yolov3/backup/yolov3_final.weights\""
   ]
  },
  {
   "cell_type": "code",
   "execution_count": 8,
   "id": "1d6ab2b5",
   "metadata": {},
   "outputs": [],
   "source": [
    "yolo=cv2.dnn.readNetFromDarknet(modelconf,modelweight)\n",
    "yolo.setPreferableBackend(cv2.dnn.DNN_BACKEND_OPENCV)\n",
    "yolo.setPreferableTarget(cv2.dnn.DNN_TARGET_CPU)"
   ]
  },
  {
   "cell_type": "code",
   "execution_count": 9,
   "id": "63f24555",
   "metadata": {},
   "outputs": [],
   "source": [
    "def findObjects(outputs,img):\n",
    "    \n",
    "    ht,wt,ct=img.shape\n",
    "    boundingboxes=[]\n",
    "    classIndexes=[]\n",
    "    confidences=[]\n",
    "    \n",
    "    for output in outputs:\n",
    "        \n",
    "        for detection in output:\n",
    "            \n",
    "            prob_scores = detection[5:]\n",
    "            class_index = np.argmax(prob_scores) \n",
    "            confidence=prob_scores[class_index]\n",
    "            \n",
    "            if confidence>=confThreshold:\n",
    "                w,h=int(detection[2]*wt),int(detection[3]*ht)\n",
    "                \n",
    "                x,y=int((detection[0]*wt)-w/2),int((detection[1]*ht)-h/2)\n",
    "                \n",
    "                boundingboxes.append([x,y,w,h])\n",
    "                classIndexes.append(class_index)\n",
    "                confidences.append(float(confidence))\n",
    "                \n",
    "    indices=cv2.dnn.NMSBoxes(boundingboxes,confidences,confThreshold, nmsThreshold)\n",
    "    \n",
    "    for i in indices:\n",
    "        box=boundingboxes[i]\n",
    "        x,y,w,h=box[0],box[1],box[2],box[3]\n",
    "        \n",
    "        cv2.rectangle(img,(x,y),(x+w,y+h),(0,255,0),2)\n",
    "        cv2.rectangle(img,(x-1,y-25),(x+w+1,y),(255,255,255),-1)\n",
    "        text=f'{labels[classIndexes[i]].upper()}:{int(confidences[i]*100)}%'\n",
    "        cv2.putText(img,text,(x,y-5),cv2.FONT_HERSHEY_SIMPLEX,0.6,(0,0,0),1)\n",
    "        "
   ]
  },
  {
   "cell_type": "code",
   "execution_count": 10,
   "id": "049831e2",
   "metadata": {},
   "outputs": [
    {
     "name": "stdout",
     "output_type": "stream",
     "text": [
      "output layers name: ('yolo_82', 'yolo_94', 'yolo_106')\n",
      "total number of output: 3\n",
      "shape of first output layer: (1200, 10)\n",
      "shape of second output layer: (4800, 10)\n",
      "shape of third output layer: (19200, 10)\n",
      "inside details of first output layer: [2.4063822e-02 3.1524282e-02 1.4550498e-01 9.3539432e-02 1.1416249e-06\n",
      " 0.0000000e+00 0.0000000e+00 0.0000000e+00 0.0000000e+00 0.0000000e+00]\n"
     ]
    }
   ],
   "source": [
    "img=cv2.imread('C:/Users/varun/OneDrive/Desktop/yolo/images/traffic.jpg')\n",
    "image=img.copy()\n",
    "\n",
    "blob=cv2.dnn.blobFromImage(image,1/255,(640,640),(0,0,0),swapRB=True,crop=False)\n",
    "\n",
    "yolo.setInput(blob)\n",
    "\n",
    "outputLayersNames=yolo.getUnconnectedOutLayersNames()\n",
    "\n",
    "print(f\"output layers name: {outputLayersNames}\")\n",
    "\n",
    "outputs=yolo.forward(outputLayersNames)\n",
    "\n",
    "print(f\"total number of output: {len(outputs)}\")\n",
    "print(f\"shape of first output layer: {outputs[0].shape}\")\n",
    "print(f\"shape of second output layer: {outputs[1].shape}\")\n",
    "print(f\"shape of third output layer: {outputs[2].shape}\")\n",
    "print(f\"inside details of first output layer: {outputs[0][0]}\")\n",
    "\n",
    "findObjects(outputs, image)\n",
    "\n",
    "cv2.imshow('frame',image)\n",
    "\n",
    "cv2.waitKey(0)\n",
    "cv2.destroyAllWindows()"
   ]
  },
  {
   "cell_type": "code",
   "execution_count": null,
   "id": "0c84965d",
   "metadata": {},
   "outputs": [],
   "source": []
  },
  {
   "cell_type": "code",
   "execution_count": null,
   "id": "9e3ba1ed",
   "metadata": {},
   "outputs": [],
   "source": []
  }
 ],
 "metadata": {
  "kernelspec": {
   "display_name": "Python 3 (ipykernel)",
   "language": "python",
   "name": "python3"
  },
  "language_info": {
   "codemirror_mode": {
    "name": "ipython",
    "version": 3
   },
   "file_extension": ".py",
   "mimetype": "text/x-python",
   "name": "python",
   "nbconvert_exporter": "python",
   "pygments_lexer": "ipython3",
   "version": "3.9.18"
  }
 },
 "nbformat": 4,
 "nbformat_minor": 5
}

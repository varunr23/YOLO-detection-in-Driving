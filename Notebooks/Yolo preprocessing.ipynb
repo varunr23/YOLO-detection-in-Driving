{
 "cells": [
  {
   "cell_type": "code",
   "execution_count": 35,
   "id": "3bfe09ee",
   "metadata": {},
   "outputs": [],
   "source": [
    "import pandas as pd\n",
    "import matplotlib.pyplot as plt\n",
    "from sklearn.model_selection import train_test_split\n",
    "import os\n",
    "from shutil import copy"
   ]
  },
  {
   "cell_type": "code",
   "execution_count": 12,
   "id": "2957e96c",
   "metadata": {},
   "outputs": [],
   "source": [
    "a=pd.read_csv('C:/Users/varun/OneDrive/Desktop/Yolo/labels_train.csv')\n",
    "b=pd.read_csv('C:/Users/varun/OneDrive/Desktop/Yolo/labels_trainval.csv')\n",
    "c=pd.read_csv('C:/Users/varun/OneDrive/Desktop/Yolo/labels_val.csv')"
   ]
  },
  {
   "cell_type": "code",
   "execution_count": 13,
   "id": "df55c861",
   "metadata": {},
   "outputs": [
    {
     "data": {
      "text/html": [
       "<div>\n",
       "<style scoped>\n",
       "    .dataframe tbody tr th:only-of-type {\n",
       "        vertical-align: middle;\n",
       "    }\n",
       "\n",
       "    .dataframe tbody tr th {\n",
       "        vertical-align: top;\n",
       "    }\n",
       "\n",
       "    .dataframe thead th {\n",
       "        text-align: right;\n",
       "    }\n",
       "</style>\n",
       "<table border=\"1\" class=\"dataframe\">\n",
       "  <thead>\n",
       "    <tr style=\"text-align: right;\">\n",
       "      <th></th>\n",
       "      <th>frame</th>\n",
       "      <th>xmin</th>\n",
       "      <th>xmax</th>\n",
       "      <th>ymin</th>\n",
       "      <th>ymax</th>\n",
       "      <th>class_id</th>\n",
       "    </tr>\n",
       "  </thead>\n",
       "  <tbody>\n",
       "    <tr>\n",
       "      <th>0</th>\n",
       "      <td>1478019952686311006.jpg</td>\n",
       "      <td>237</td>\n",
       "      <td>251</td>\n",
       "      <td>143</td>\n",
       "      <td>155</td>\n",
       "      <td>1</td>\n",
       "    </tr>\n",
       "    <tr>\n",
       "      <th>1</th>\n",
       "      <td>1478019952686311006.jpg</td>\n",
       "      <td>437</td>\n",
       "      <td>454</td>\n",
       "      <td>120</td>\n",
       "      <td>186</td>\n",
       "      <td>3</td>\n",
       "    </tr>\n",
       "    <tr>\n",
       "      <th>2</th>\n",
       "      <td>1478019953180167674.jpg</td>\n",
       "      <td>218</td>\n",
       "      <td>231</td>\n",
       "      <td>146</td>\n",
       "      <td>158</td>\n",
       "      <td>1</td>\n",
       "    </tr>\n",
       "    <tr>\n",
       "      <th>3</th>\n",
       "      <td>1478019953689774621.jpg</td>\n",
       "      <td>171</td>\n",
       "      <td>182</td>\n",
       "      <td>141</td>\n",
       "      <td>154</td>\n",
       "      <td>2</td>\n",
       "    </tr>\n",
       "    <tr>\n",
       "      <th>4</th>\n",
       "      <td>1478019953689774621.jpg</td>\n",
       "      <td>179</td>\n",
       "      <td>191</td>\n",
       "      <td>144</td>\n",
       "      <td>155</td>\n",
       "      <td>1</td>\n",
       "    </tr>\n",
       "  </tbody>\n",
       "</table>\n",
       "</div>"
      ],
      "text/plain": [
       "                     frame  xmin  xmax  ymin  ymax  class_id\n",
       "0  1478019952686311006.jpg   237   251   143   155         1\n",
       "1  1478019952686311006.jpg   437   454   120   186         3\n",
       "2  1478019953180167674.jpg   218   231   146   158         1\n",
       "3  1478019953689774621.jpg   171   182   141   154         2\n",
       "4  1478019953689774621.jpg   179   191   144   155         1"
      ]
     },
     "execution_count": 13,
     "metadata": {},
     "output_type": "execute_result"
    }
   ],
   "source": [
    "df=pd.concat([a,b,c],axis=0)\n",
    "df.head()"
   ]
  },
  {
   "cell_type": "code",
   "execution_count": 14,
   "id": "63b10805",
   "metadata": {},
   "outputs": [
    {
     "data": {
      "text/plain": [
       "(330210, 6)"
      ]
     },
     "execution_count": 14,
     "metadata": {},
     "output_type": "execute_result"
    }
   ],
   "source": [
    "df.shape"
   ]
  },
  {
   "cell_type": "code",
   "execution_count": 18,
   "id": "256bf431",
   "metadata": {},
   "outputs": [
    {
     "data": {
      "text/html": [
       "<div>\n",
       "<style scoped>\n",
       "    .dataframe tbody tr th:only-of-type {\n",
       "        vertical-align: middle;\n",
       "    }\n",
       "\n",
       "    .dataframe tbody tr th {\n",
       "        vertical-align: top;\n",
       "    }\n",
       "\n",
       "    .dataframe thead th {\n",
       "        text-align: right;\n",
       "    }\n",
       "</style>\n",
       "<table border=\"1\" class=\"dataframe\">\n",
       "  <thead>\n",
       "    <tr style=\"text-align: right;\">\n",
       "      <th></th>\n",
       "      <th>frame</th>\n",
       "      <th>class_id</th>\n",
       "    </tr>\n",
       "  </thead>\n",
       "  <tbody>\n",
       "    <tr>\n",
       "      <th>0</th>\n",
       "      <td>1478019952686311006.jpg</td>\n",
       "      <td>1</td>\n",
       "    </tr>\n",
       "    <tr>\n",
       "      <th>1</th>\n",
       "      <td>1478019952686311006.jpg</td>\n",
       "      <td>3</td>\n",
       "    </tr>\n",
       "    <tr>\n",
       "      <th>2</th>\n",
       "      <td>1478019953180167674.jpg</td>\n",
       "      <td>1</td>\n",
       "    </tr>\n",
       "    <tr>\n",
       "      <th>3</th>\n",
       "      <td>1478019953689774621.jpg</td>\n",
       "      <td>2</td>\n",
       "    </tr>\n",
       "    <tr>\n",
       "      <th>4</th>\n",
       "      <td>1478019953689774621.jpg</td>\n",
       "      <td>1</td>\n",
       "    </tr>\n",
       "  </tbody>\n",
       "</table>\n",
       "</div>"
      ],
      "text/plain": [
       "                     frame  class_id\n",
       "0  1478019952686311006.jpg         1\n",
       "1  1478019952686311006.jpg         3\n",
       "2  1478019953180167674.jpg         1\n",
       "3  1478019953689774621.jpg         2\n",
       "4  1478019953689774621.jpg         1"
      ]
     },
     "execution_count": 18,
     "metadata": {},
     "output_type": "execute_result"
    }
   ],
   "source": [
    "data=df.drop(['xmin','xmax','ymin','ymax'],axis=1)\n",
    "data=data.drop_duplicates()\n",
    "data.head()"
   ]
  },
  {
   "cell_type": "code",
   "execution_count": 19,
   "id": "56b6b4e6",
   "metadata": {},
   "outputs": [],
   "source": [
    "a=data['class_id'].value_counts()[1]\n",
    "b=data['class_id'].value_counts()[2]\n",
    "c=data['class_id'].value_counts()[3]\n",
    "d=data['class_id'].value_counts()[4]\n",
    "e=data['class_id'].value_counts()[5]"
   ]
  },
  {
   "cell_type": "code",
   "execution_count": 20,
   "id": "f75bacb1",
   "metadata": {},
   "outputs": [
    {
     "data": {
      "image/png": "[encoded data removed]",
      "text/plain": [
       "<Figure size 700x500 with 1 Axes>"
      ]
     },
     "metadata": {},
     "output_type": "display_data"
    },
    {
     "data": {
      "text/plain": [
       "<Figure size 640x480 with 0 Axes>"
      ]
     },
     "metadata": {},
     "output_type": "display_data"
    }
   ],
   "source": [
    "classes = ['car', 'truck', 'pedestrian', 'bicyclist', 'light']\n",
    "data = [a,b,c,d,e]\n",
    "\n",
    "fig = plt.figure(figsize =(7,5))\n",
    "plt.pie(data, labels = classes,autopct='%1.1f%%',startangle=120,wedgeprops = {\"edgecolor\" : \"black\", 'linewidth': 0.5})\n",
    "plt.show()\n",
    "plt.savefig('images in each class.png')"
   ]
  },
  {
   "cell_type": "code",
   "execution_count": 21,
   "id": "623240e9",
   "metadata": {},
   "outputs": [],
   "source": [
    "a=df['class_id'].value_counts()[1]\n",
    "b=df['class_id'].value_counts()[2]\n",
    "c=df['class_id'].value_counts()[3]\n",
    "d=df['class_id'].value_counts()[4]\n",
    "e=df['class_id'].value_counts()[5]"
   ]
  },
  {
   "cell_type": "code",
   "execution_count": 22,
   "id": "ef7cf241",
   "metadata": {},
   "outputs": [
    {
     "data": {
      "image/png": "[encoded data removed]",
      "text/plain": [
       "<Figure size 700x500 with 1 Axes>"
      ]
     },
     "metadata": {},
     "output_type": "display_data"
    },
    {
     "data": {
      "text/plain": [
       "<Figure size 640x480 with 0 Axes>"
      ]
     },
     "metadata": {},
     "output_type": "display_data"
    }
   ],
   "source": [
    "classes = ['car', 'truck', 'pedestrian', 'bicyclist', 'light']\n",
    "data = [123303,7322,15538,1676,17243]\n",
    "\n",
    "fig = plt.figure(figsize =(7,5))\n",
    "plt.pie(data,\n",
    "        labels = classes,\n",
    "        autopct='%1.1f%%',\n",
    "        startangle=30,\n",
    "        wedgeprops = {\"edgecolor\" : \"black\", 'linewidth': 0.5})\n",
    "\n",
    "plt.show()\n",
    "plt.savefig('bounding boxes of each class.jpg')"
   ]
  },
  {
   "cell_type": "code",
   "execution_count": 23,
   "id": "5154b21d",
   "metadata": {},
   "outputs": [
    {
     "data": {
      "text/plain": [
       "22241"
      ]
     },
     "execution_count": 23,
     "metadata": {},
     "output_type": "execute_result"
    }
   ],
   "source": [
    "images=df['frame'].unique()\n",
    "len(images)"
   ]
  },
  {
   "cell_type": "code",
   "execution_count": 24,
   "id": "0a64f8aa",
   "metadata": {},
   "outputs": [],
   "source": [
    "dic={1:0,2:1,3:2,4:3,5:4}"
   ]
  },
  {
   "cell_type": "code",
   "execution_count": 25,
   "id": "1ff4c716",
   "metadata": {},
   "outputs": [],
   "source": [
    "df=df.replace({\"class_id\": dic})"
   ]
  },
  {
   "cell_type": "code",
   "execution_count": 37,
   "id": "d6662a5f",
   "metadata": {},
   "outputs": [],
   "source": []
  },
  {
   "cell_type": "code",
   "execution_count": 33,
   "id": "590ce21d",
   "metadata": {},
   "outputs": [],
   "source": [
    "def move_data(filename,src,destination):\n",
    "    \n",
    "    src=os.path.join(src,filename)\n",
    "    dest=os.path.join(destination,filename)\n",
    "    copy(src,dest)"
   ]
  },
  {
   "cell_type": "code",
   "execution_count": 40,
   "id": "a5061a0e",
   "metadata": {},
   "outputs": [],
   "source": [
    "class_data=['zeroimages','oneimages','twoimages','threeimages','fourimages']\n",
    "i=0\n",
    "for folder in class_data:\n",
    "    \n",
    "    dest=os.path.join('C:/Users/varun/OneDrive/Desktop/Yolo',folder)\n",
    "    src='C:/Users/varun/OneDrive/Desktop/Yolo/images 1'\n",
    "    os.mkdir(dest)\n",
    "    data1=df[df['class_id']==i]\n",
    "    i+=1\n",
    "    Series=pd.Series(data1['frame'].unique())\n",
    "    Series.apply(move_data,args=(src,dest))"
   ]
  },
  {
   "cell_type": "code",
   "execution_count": 65,
   "id": "ce8936e1",
   "metadata": {},
   "outputs": [
    {
     "data": {
      "text/plain": [
       "9139"
      ]
     },
     "execution_count": 65,
     "metadata": {},
     "output_type": "execute_result"
    }
   ],
   "source": [
    "os.chdir('C:/Users/varun/OneDrive/Desktop/Yolo/images')\n",
    "images=os.listdir()\n",
    "len(images)"
   ]
  },
  {
   "cell_type": "code",
   "execution_count": 66,
   "id": "fc039704",
   "metadata": {},
   "outputs": [],
   "source": [
    "new_df=df.query(f'frame in {images}')"
   ]
  },
  {
   "cell_type": "code",
   "execution_count": 67,
   "id": "2c1f9dde",
   "metadata": {},
   "outputs": [
    {
     "data": {
      "text/html": [
       "<div>\n",
       "<style scoped>\n",
       "    .dataframe tbody tr th:only-of-type {\n",
       "        vertical-align: middle;\n",
       "    }\n",
       "\n",
       "    .dataframe tbody tr th {\n",
       "        vertical-align: top;\n",
       "    }\n",
       "\n",
       "    .dataframe thead th {\n",
       "        text-align: right;\n",
       "    }\n",
       "</style>\n",
       "<table border=\"1\" class=\"dataframe\">\n",
       "  <thead>\n",
       "    <tr style=\"text-align: right;\">\n",
       "      <th></th>\n",
       "      <th>frame</th>\n",
       "      <th>xmin</th>\n",
       "      <th>xmax</th>\n",
       "      <th>ymin</th>\n",
       "      <th>ymax</th>\n",
       "      <th>class_id</th>\n",
       "    </tr>\n",
       "  </thead>\n",
       "  <tbody>\n",
       "    <tr>\n",
       "      <th>0</th>\n",
       "      <td>1478019952686311006.jpg</td>\n",
       "      <td>237</td>\n",
       "      <td>251</td>\n",
       "      <td>143</td>\n",
       "      <td>155</td>\n",
       "      <td>0</td>\n",
       "    </tr>\n",
       "    <tr>\n",
       "      <th>1</th>\n",
       "      <td>1478019952686311006.jpg</td>\n",
       "      <td>437</td>\n",
       "      <td>454</td>\n",
       "      <td>120</td>\n",
       "      <td>186</td>\n",
       "      <td>2</td>\n",
       "    </tr>\n",
       "    <tr>\n",
       "      <th>2</th>\n",
       "      <td>1478019953180167674.jpg</td>\n",
       "      <td>218</td>\n",
       "      <td>231</td>\n",
       "      <td>146</td>\n",
       "      <td>158</td>\n",
       "      <td>0</td>\n",
       "    </tr>\n",
       "    <tr>\n",
       "      <th>3</th>\n",
       "      <td>1478019953689774621.jpg</td>\n",
       "      <td>171</td>\n",
       "      <td>182</td>\n",
       "      <td>141</td>\n",
       "      <td>154</td>\n",
       "      <td>1</td>\n",
       "    </tr>\n",
       "    <tr>\n",
       "      <th>4</th>\n",
       "      <td>1478019953689774621.jpg</td>\n",
       "      <td>179</td>\n",
       "      <td>191</td>\n",
       "      <td>144</td>\n",
       "      <td>155</td>\n",
       "      <td>0</td>\n",
       "    </tr>\n",
       "  </tbody>\n",
       "</table>\n",
       "</div>"
      ],
      "text/plain": [
       "                     frame  xmin  xmax  ymin  ymax  class_id\n",
       "0  1478019952686311006.jpg   237   251   143   155         0\n",
       "1  1478019952686311006.jpg   437   454   120   186         2\n",
       "2  1478019953180167674.jpg   218   231   146   158         0\n",
       "3  1478019953689774621.jpg   171   182   141   154         1\n",
       "4  1478019953689774621.jpg   179   191   144   155         0"
      ]
     },
     "execution_count": 67,
     "metadata": {},
     "output_type": "execute_result"
    }
   ],
   "source": [
    "new_df.head()"
   ]
  },
  {
   "cell_type": "code",
   "execution_count": 68,
   "id": "57f22677",
   "metadata": {},
   "outputs": [
    {
     "name": "stderr",
     "output_type": "stream",
     "text": [
      "C:\\Users\\varun\\AppData\\Local\\Temp\\ipykernel_29344\\615772299.py:1: SettingWithCopyWarning: \n",
      "A value is trying to be set on a copy of a slice from a DataFrame.\n",
      "Try using .loc[row_indexer,col_indexer] = value instead\n",
      "\n",
      "See the caveats in the documentation: https://pandas.pydata.org/pandas-docs/stable/user_guide/indexing.html#returning-a-view-versus-a-copy\n",
      "  new_df['centre_x']=((new_df['xmin']+new_df['xmax'])/2)/480\n",
      "C:\\Users\\varun\\AppData\\Local\\Temp\\ipykernel_29344\\615772299.py:2: SettingWithCopyWarning: \n",
      "A value is trying to be set on a copy of a slice from a DataFrame.\n",
      "Try using .loc[row_indexer,col_indexer] = value instead\n",
      "\n",
      "See the caveats in the documentation: https://pandas.pydata.org/pandas-docs/stable/user_guide/indexing.html#returning-a-view-versus-a-copy\n",
      "  new_df['centre_y']=((new_df['ymin']+new_df['ymax'])/2)/300\n",
      "C:\\Users\\varun\\AppData\\Local\\Temp\\ipykernel_29344\\615772299.py:3: SettingWithCopyWarning: \n",
      "A value is trying to be set on a copy of a slice from a DataFrame.\n",
      "Try using .loc[row_indexer,col_indexer] = value instead\n",
      "\n",
      "See the caveats in the documentation: https://pandas.pydata.org/pandas-docs/stable/user_guide/indexing.html#returning-a-view-versus-a-copy\n",
      "  new_df['w']=(new_df['xmax']-new_df['xmin'])/480\n",
      "C:\\Users\\varun\\AppData\\Local\\Temp\\ipykernel_29344\\615772299.py:4: SettingWithCopyWarning: \n",
      "A value is trying to be set on a copy of a slice from a DataFrame.\n",
      "Try using .loc[row_indexer,col_indexer] = value instead\n",
      "\n",
      "See the caveats in the documentation: https://pandas.pydata.org/pandas-docs/stable/user_guide/indexing.html#returning-a-view-versus-a-copy\n",
      "  new_df['h']=(new_df['ymax']-new_df['ymin'])/300\n"
     ]
    }
   ],
   "source": [
    "new_df['centre_x']=((new_df['xmin']+new_df['xmax'])/2)/480\n",
    "new_df['centre_y']=((new_df['ymin']+new_df['ymax'])/2)/300\n",
    "new_df['w']=(new_df['xmax']-new_df['xmin'])/480\n",
    "new_df['h']=(new_df['ymax']-new_df['ymin'])/300"
   ]
  },
  {
   "cell_type": "code",
   "execution_count": 69,
   "id": "8237eaab",
   "metadata": {},
   "outputs": [
    {
     "data": {
      "text/html": [
       "<div>\n",
       "<style scoped>\n",
       "    .dataframe tbody tr th:only-of-type {\n",
       "        vertical-align: middle;\n",
       "    }\n",
       "\n",
       "    .dataframe tbody tr th {\n",
       "        vertical-align: top;\n",
       "    }\n",
       "\n",
       "    .dataframe thead th {\n",
       "        text-align: right;\n",
       "    }\n",
       "</style>\n",
       "<table border=\"1\" class=\"dataframe\">\n",
       "  <thead>\n",
       "    <tr style=\"text-align: right;\">\n",
       "      <th></th>\n",
       "      <th>frame</th>\n",
       "      <th>xmin</th>\n",
       "      <th>xmax</th>\n",
       "      <th>ymin</th>\n",
       "      <th>ymax</th>\n",
       "      <th>class_id</th>\n",
       "      <th>centre_x</th>\n",
       "      <th>centre_y</th>\n",
       "      <th>w</th>\n",
       "      <th>h</th>\n",
       "    </tr>\n",
       "  </thead>\n",
       "  <tbody>\n",
       "    <tr>\n",
       "      <th>0</th>\n",
       "      <td>1478019952686311006.jpg</td>\n",
       "      <td>237</td>\n",
       "      <td>251</td>\n",
       "      <td>143</td>\n",
       "      <td>155</td>\n",
       "      <td>0</td>\n",
       "      <td>0.508333</td>\n",
       "      <td>0.496667</td>\n",
       "      <td>0.029167</td>\n",
       "      <td>0.040000</td>\n",
       "    </tr>\n",
       "    <tr>\n",
       "      <th>1</th>\n",
       "      <td>1478019952686311006.jpg</td>\n",
       "      <td>437</td>\n",
       "      <td>454</td>\n",
       "      <td>120</td>\n",
       "      <td>186</td>\n",
       "      <td>2</td>\n",
       "      <td>0.928125</td>\n",
       "      <td>0.510000</td>\n",
       "      <td>0.035417</td>\n",
       "      <td>0.220000</td>\n",
       "    </tr>\n",
       "    <tr>\n",
       "      <th>2</th>\n",
       "      <td>1478019953180167674.jpg</td>\n",
       "      <td>218</td>\n",
       "      <td>231</td>\n",
       "      <td>146</td>\n",
       "      <td>158</td>\n",
       "      <td>0</td>\n",
       "      <td>0.467708</td>\n",
       "      <td>0.506667</td>\n",
       "      <td>0.027083</td>\n",
       "      <td>0.040000</td>\n",
       "    </tr>\n",
       "    <tr>\n",
       "      <th>3</th>\n",
       "      <td>1478019953689774621.jpg</td>\n",
       "      <td>171</td>\n",
       "      <td>182</td>\n",
       "      <td>141</td>\n",
       "      <td>154</td>\n",
       "      <td>1</td>\n",
       "      <td>0.367708</td>\n",
       "      <td>0.491667</td>\n",
       "      <td>0.022917</td>\n",
       "      <td>0.043333</td>\n",
       "    </tr>\n",
       "    <tr>\n",
       "      <th>4</th>\n",
       "      <td>1478019953689774621.jpg</td>\n",
       "      <td>179</td>\n",
       "      <td>191</td>\n",
       "      <td>144</td>\n",
       "      <td>155</td>\n",
       "      <td>0</td>\n",
       "      <td>0.385417</td>\n",
       "      <td>0.498333</td>\n",
       "      <td>0.025000</td>\n",
       "      <td>0.036667</td>\n",
       "    </tr>\n",
       "  </tbody>\n",
       "</table>\n",
       "</div>"
      ],
      "text/plain": [
       "                     frame  xmin  xmax  ymin  ymax  class_id  centre_x  \\\n",
       "0  1478019952686311006.jpg   237   251   143   155         0  0.508333   \n",
       "1  1478019952686311006.jpg   437   454   120   186         2  0.928125   \n",
       "2  1478019953180167674.jpg   218   231   146   158         0  0.467708   \n",
       "3  1478019953689774621.jpg   171   182   141   154         1  0.367708   \n",
       "4  1478019953689774621.jpg   179   191   144   155         0  0.385417   \n",
       "\n",
       "   centre_y         w         h  \n",
       "0  0.496667  0.029167  0.040000  \n",
       "1  0.510000  0.035417  0.220000  \n",
       "2  0.506667  0.027083  0.040000  \n",
       "3  0.491667  0.022917  0.043333  \n",
       "4  0.498333  0.025000  0.036667  "
      ]
     },
     "execution_count": 69,
     "metadata": {},
     "output_type": "execute_result"
    }
   ],
   "source": [
    "new_df.head()"
   ]
  },
  {
   "cell_type": "code",
   "execution_count": 70,
   "id": "161e4f1f",
   "metadata": {},
   "outputs": [
    {
     "data": {
      "text/plain": [
       "9139"
      ]
     },
     "execution_count": 70,
     "metadata": {},
     "output_type": "execute_result"
    }
   ],
   "source": [
    "images=new_df['frame'].unique()\n",
    "len(images)"
   ]
  },
  {
   "cell_type": "code",
   "execution_count": null,
   "id": "fd06c2b8",
   "metadata": {},
   "outputs": [],
   "source": []
  },
  {
   "cell_type": "code",
   "execution_count": null,
   "id": "1ef164a4",
   "metadata": {},
   "outputs": [],
   "source": [
    "yolov5"
   ]
  },
  {
   "cell_type": "code",
   "execution_count": 48,
   "id": "9250b8c4",
   "metadata": {},
   "outputs": [],
   "source": [
    "train='C:/Users/varun/OneDrive/Desktop/Yolo/train_images'\n",
    "test='C:/Users/varun/OneDrive/Desktop/Yolo/test_images'\n",
    "\n",
    "os.mkdir(train)\n",
    "os.mkdir(test)"
   ]
  },
  {
   "cell_type": "code",
   "execution_count": 71,
   "id": "a225b708",
   "metadata": {},
   "outputs": [],
   "source": [
    "img_data=pd.DataFrame(images,columns=['filename'])\n",
    "img_train=tuple(img_data.sample(frac=0.7)['filename'])\n",
    "img_test=tuple(img_data.query(f'filename not in {img_train}')['filename'])"
   ]
  },
  {
   "cell_type": "code",
   "execution_count": 57,
   "id": "f685a856",
   "metadata": {},
   "outputs": [],
   "source": [
    "train_data=new_df.query(f'frame in {img_train}')\n",
    "test_data=new_df.query(f'frame in {img_test}')"
   ]
  },
  {
   "cell_type": "code",
   "execution_count": 58,
   "id": "80af209e",
   "metadata": {},
   "outputs": [],
   "source": [
    "train_grp=train_data[['frame','class_id','centre_x','centre_y','w','h']].groupby('frame')\n",
    "test_grp=test_data[['frame','class_id','centre_x','centre_y','w','h']].groupby('frame')"
   ]
  },
  {
   "cell_type": "code",
   "execution_count": 59,
   "id": "def817cd",
   "metadata": {},
   "outputs": [],
   "source": [
    "train_keys=pd.Series(train_grp.groups.keys())\n",
    "test_keys=pd.Series(test_grp.groups.keys())"
   ]
  },
  {
   "cell_type": "code",
   "execution_count": 63,
   "id": "867369ee",
   "metadata": {},
   "outputs": [],
   "source": [
    "def save_data(filename,foldername,grp_obj):\n",
    "    \n",
    "    src=os.path.join('C:/Users/varun/OneDrive/Desktop/Yolo/images',filename)\n",
    "    dest=os.path.join(foldername,filename)\n",
    "    copy(src,dest)\n",
    "    \n",
    "    text_name=os.path.join(foldername+'/'+os.path.splitext(filename)[0]+'.txt')\n",
    "    grp_obj.get_group(filename).set_index('frame').to_csv(text_name,sep=' ',index=False,header=False)"
   ]
  },
  {
   "cell_type": "code",
   "execution_count": 64,
   "id": "4a8efa71",
   "metadata": {},
   "outputs": [
    {
     "data": {
      "text/plain": [
       "0       None\n",
       "1       None\n",
       "2       None\n",
       "3       None\n",
       "4       None\n",
       "        ... \n",
       "6569    None\n",
       "6570    None\n",
       "6571    None\n",
       "6572    None\n",
       "6573    None\n",
       "Length: 6574, dtype: object"
      ]
     },
     "execution_count": 64,
     "metadata": {},
     "output_type": "execute_result"
    }
   ],
   "source": [
    "train_keys.apply(save_data,args=(train,train_grp))"
   ]
  },
  {
   "cell_type": "code",
   "execution_count": 65,
   "id": "18bc9432",
   "metadata": {},
   "outputs": [
    {
     "data": {
      "text/plain": [
       "0       None\n",
       "1       None\n",
       "2       None\n",
       "3       None\n",
       "4       None\n",
       "        ... \n",
       "2812    None\n",
       "2813    None\n",
       "2814    None\n",
       "2815    None\n",
       "2816    None\n",
       "Length: 2817, dtype: object"
      ]
     },
     "execution_count": 65,
     "metadata": {},
     "output_type": "execute_result"
    }
   ],
   "source": [
    "test_keys.apply(save_data,args=(test,test_grp))"
   ]
  },
  {
   "cell_type": "code",
   "execution_count": null,
   "id": "241e03c0",
   "metadata": {},
   "outputs": [],
   "source": []
  },
  {
   "cell_type": "markdown",
   "id": "46fd3506",
   "metadata": {},
   "source": [
    "YOLOv3"
   ]
  },
  {
   "cell_type": "code",
   "execution_count": 73,
   "id": "a8774c26",
   "metadata": {},
   "outputs": [
    {
     "data": {
      "text/plain": [
       "5636"
      ]
     },
     "execution_count": 73,
     "metadata": {},
     "output_type": "execute_result"
    }
   ],
   "source": [
    "os.chdir('C:/Users/varun/OneDrive/Desktop/Yolo/test_images')\n",
    "images=os.listdir('C:/Users/varun/OneDrive/Desktop/Yolo/test_images')\n",
    "len(images)"
   ]
  },
  {
   "cell_type": "code",
   "execution_count": 74,
   "id": "6314aef5",
   "metadata": {},
   "outputs": [
    {
     "data": {
      "text/plain": [
       "13149"
      ]
     },
     "execution_count": 74,
     "metadata": {},
     "output_type": "execute_result"
    }
   ],
   "source": [
    "os.chdir('C:/Users/varun/OneDrive/Desktop/Yolo/train_images')\n",
    "images1=os.listdir('C:/Users/varun/OneDrive/Desktop/Yolo/train_images')\n",
    "len(images1)"
   ]
  },
  {
   "cell_type": "code",
   "execution_count": 75,
   "id": "ac3c241d",
   "metadata": {},
   "outputs": [],
   "source": [
    "res = [i for i in images if '.jpg' in i]"
   ]
  },
  {
   "cell_type": "code",
   "execution_count": 76,
   "id": "ddc4c130",
   "metadata": {},
   "outputs": [],
   "source": [
    "res1=[i for i in images1 if '.jpg' in i]"
   ]
  },
  {
   "cell_type": "code",
   "execution_count": 77,
   "id": "e8578e40",
   "metadata": {},
   "outputs": [],
   "source": [
    "os.chdir('C:/Users/varun/OneDrive/Desktop/YOLO')"
   ]
  },
  {
   "cell_type": "code",
   "execution_count": 78,
   "id": "c41d2b43",
   "metadata": {},
   "outputs": [],
   "source": [
    "with open(\"train.txt\", \"w\") as f:\n",
    "    for i in res1:\n",
    "        f.write(\"C:/Users/varun/OneDrive/Desktop/Yolo/test_images/\"+i)"
   ]
  },
  {
   "cell_type": "code",
   "execution_count": 79,
   "id": "a3fbf6ba",
   "metadata": {},
   "outputs": [],
   "source": [
    "with open(\"test.txt\", \"w\") as f:\n",
    "    for i in res:\n",
    "        f.write(\"C:/Users/varun/OneDrive/Desktop/Yolo/test_images/\"+i)\n",
    "        f.write('\\n')"
   ]
  },
  {
   "cell_type": "code",
   "execution_count": null,
   "id": "fc4d44a1",
   "metadata": {},
   "outputs": [],
   "source": []
  }
 ],
 "metadata": {
  "kernelspec": {
   "display_name": "Python 3 (ipykernel)",
   "language": "python",
   "name": "python3"
  },
  "language_info": {
   "codemirror_mode": {
    "name": "ipython",
    "version": 3
   },
   "file_extension": ".py",
   "mimetype": "text/x-python",
   "name": "python",
   "nbconvert_exporter": "python",
   "pygments_lexer": "ipython3",
   "version": "3.9.18"
  }
 },
 "nbformat": 4,
 "nbformat_minor": 5
}
